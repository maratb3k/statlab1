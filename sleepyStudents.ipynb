{
 "cells": [
  {
   "cell_type": "code",
   "execution_count": 11,
   "metadata": {},
   "outputs": [],
   "source": [
    "import pandas as pd\n",
    "import numpy as np\n",
    "from math import sqrt\n",
    "import scipy.stats"
   ]
  },
  {
   "cell_type": "code",
   "execution_count": 12,
   "metadata": {},
   "outputs": [],
   "source": [
    "data = np.array(pd.read_csv(\"sleep.csv\"))\n",
    "CI = 0.9 #confidence interval which is 90%"
   ]
  },
  {
   "cell_type": "code",
   "execution_count": 13,
   "metadata": {
    "scrolled": true
   },
   "outputs": [],
   "source": [
    "data = pd.DataFrame(data) #passing data into DataFram to make our work more comfortable \n",
    "smean = data.mean() #arithmetical mean value in sample\n",
    "std = data.std() #sample's standard deviation\n",
    "nsize = len(data) #amount of elements in sample\n",
    "pmean = 7 #our assumed value for null hypothesis"
   ]
  },
  {
   "cell_type": "markdown",
   "metadata": {},
   "source": [
    "$ t = \\frac{\\bar{x} - \\mu_{0}}{s/\\sqrt{n}} $"
   ]
  },
  {
   "cell_type": "code",
   "execution_count": 14,
   "metadata": {},
   "outputs": [
    {
     "data": {
      "text/plain": [
       "0   -2.030135\n",
       "dtype: float64"
      ]
     },
     "execution_count": 14,
     "metadata": {},
     "output_type": "execute_result"
    }
   ],
   "source": [
    "t = (smean - pmean) / (std/sqrt(nsize))\n",
    "t"
   ]
  },
  {
   "cell_type": "code",
   "execution_count": 20,
   "metadata": {},
   "outputs": [
    {
     "name": "stdout",
     "output_type": "stream",
     "text": [
      "We reject null hypothesis, which means that the number of students \n",
      "    who sleep less than 7 hours is \n",
      "    different than those who sleep more than 7 hours. \n"
     ]
    }
   ],
   "source": [
    "DF = nsize - 1\n",
    "alpha = 1 - CI\n",
    "pval = scipy.stats.t.sf(np.abs(t), nsize-1)*2  # two-sided pvalue = Prob(abs(t)>tt)\n",
    "if pval < alpha :\n",
    "    print('''We reject null hypothesis, which means that the number of students \n",
    "    who sleep less than 7 hours is \n",
    "    different than those who sleep more than 7 hours. ''')\n",
    "else:\n",
    "    print('''We accept null hypothesis, which means that the number of students \n",
    "    who sleep less than 7 hours is \n",
    "    equal relative to those who sleep more than 7 hours. ''')"
   ]
  }
 ],
 "metadata": {
  "kernelspec": {
   "display_name": "Python 3",
   "language": "python",
   "name": "python3"
  },
  "language_info": {
   "codemirror_mode": {
    "name": "ipython",
    "version": 3
   },
   "file_extension": ".py",
   "mimetype": "text/x-python",
   "name": "python",
   "nbconvert_exporter": "python",
   "pygments_lexer": "ipython3",
   "version": "3.7.6"
  }
 },
 "nbformat": 4,
 "nbformat_minor": 4
}
